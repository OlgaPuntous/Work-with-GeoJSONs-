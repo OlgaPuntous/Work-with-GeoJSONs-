{
  "nbformat": 4,
  "nbformat_minor": 0,
  "metadata": {
    "colab": {
      "name": "CheckPoint.ipynb",
      "provenance": [],
      "mount_file_id": "1tYQOjLdgvBqEpXRM0NL3ZpLtYfp7o5Kb",
      "authorship_tag": "ABX9TyM3SuPqCcSlCUg4SIMseL2u",
      "include_colab_link": true
    },
    "kernelspec": {
      "name": "python3",
      "display_name": "Python 3"
    },
    "language_info": {
      "name": "python"
    }
  },
  "cells": [
    {
      "cell_type": "markdown",
      "metadata": {
        "id": "view-in-github",
        "colab_type": "text"
      },
      "source": [
        "<a href=\"https://colab.research.google.com/github/OlgaPuntous/Work-with-GeoJSONs-/blob/master/CheckPoint.ipynb\" target=\"_parent\"><img src=\"https://colab.research.google.com/assets/colab-badge.svg\" alt=\"Open In Colab\"/></a>"
      ]
    },
    {
      "cell_type": "markdown",
      "metadata": {
        "id": "CkIT_qvBcLpx"
      },
      "source": [
        "## Hello, here is example of notebook which works with GeoJSONS files\n",
        "\n",
        "It takes as input json files of multiple polygons and point coordinates and defines which polygon point belongs to."
      ]
    },
    {
      "cell_type": "code",
      "metadata": {
        "id": "5ZkZvAIP7R2P",
        "colab": {
          "base_uri": "https://localhost:8080/"
        },
        "outputId": "72ddb4c9-66f4-4e5c-aab9-f8d2270f1663"
      },
      "source": [
        "import os\n",
        "#counting number of json files\n",
        "\n",
        "path, dirs, files = next(os.walk(\"/content/drive/MyDrive/Polygons\"))\n",
        "file_count = len(files) \n",
        "\n",
        "print('number of polygons is', file_count)"
      ],
      "execution_count": 2,
      "outputs": [
        {
          "output_type": "stream",
          "text": [
            "number of polygons is 2\n"
          ],
          "name": "stdout"
        }
      ]
    },
    {
      "cell_type": "code",
      "metadata": {
        "id": "JjUm0Utm50dv"
      },
      "source": [
        "import json\n",
        "from shapely.geometry import shape, Point,LineString\n",
        "#loading jsons\n",
        "js=[]\n",
        "\n",
        "for i in range(1, file_count+1):\n",
        "    with open('/content/drive/MyDrive/Polygons/data_geo{}.json'.format(i)) as f:\n",
        "        js_ = json.load(f)\n",
        "        js.append(js_)    "
      ],
      "execution_count": 3,
      "outputs": []
    },
    {
      "cell_type": "code",
      "metadata": {
        "colab": {
          "base_uri": "https://localhost:8080/"
        },
        "id": "_7ZHi4btJDGl",
        "outputId": "e3fabd07-abc8-468d-b273-298a6c71e227"
      },
      "source": [
        "print('Enter your point x coordinate, for example: 37.390594482421876')\n",
        "x = float(input())\n",
        "print('Enter your point y coordinate, for example: 55.8444821875885')\n",
        "y = float(input())\n",
        "point = Point(x,y)"
      ],
      "execution_count": 29,
      "outputs": [
        {
          "output_type": "stream",
          "text": [
            "Enter your point x coordinate, for example: 37.390594482421876\n",
            "30.16983032226563\n",
            "Enter your point y coordinate, for example: 55.8444821875885\n",
            "60.06963720547184\n"
          ],
          "name": "stdout"
        }
      ]
    },
    {
      "cell_type": "code",
      "metadata": {
        "id": "Od-gJluu-YWu"
      },
      "source": [
        "#point example\n",
        "#point = Point(30.16983032226563, 60.06963720547184)"
      ],
      "execution_count": 27,
      "outputs": []
    },
    {
      "cell_type": "code",
      "metadata": {
        "id": "8aZalms9-dio"
      },
      "source": [
        "# function to check each polygon to see if it contains the point\n",
        "def checkpoint(point):\n",
        "\n",
        "    containers=[] #here will be the list of polygons which contains our point\n",
        "\n",
        "    for idx, j in enumerate(js):    \n",
        "        polygon = shape(j['features'][0]['geometry'])\n",
        "        if polygon.contains(point):\n",
        "            containers.append(idx+1)\n",
        "   \n",
        "    if len(containers)==0:\n",
        "      print ('The point is outside of all polygons')\n",
        "    else:  \n",
        "      print('The point are in following polygons:',*containers)   "
      ],
      "execution_count": 30,
      "outputs": []
    },
    {
      "cell_type": "code",
      "metadata": {
        "colab": {
          "base_uri": "https://localhost:8080/"
        },
        "id": "gh8_vNfK_f48",
        "outputId": "90fff382-7dce-4df2-fb2a-6c483a6dbcae"
      },
      "source": [
        "checkpoint(point) "
      ],
      "execution_count": 31,
      "outputs": [
        {
          "output_type": "stream",
          "text": [
            "The point are in following polygons: 2\n"
          ],
          "name": "stdout"
        }
      ]
    },
    {
      "cell_type": "markdown",
      "metadata": {
        "id": "yjR2bN83cKhb"
      },
      "source": [
        ""
      ]
    }
  ]
}